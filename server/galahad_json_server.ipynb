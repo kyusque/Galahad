{
 "cells": [
  {
   "cell_type": "markdown",
   "metadata": {},
   "source": [
    "# Galahad用のJSON作成方法\n",
    "\n",
    "## インストール方法\n",
    "\n",
    "rdkit使うのでcondaでインストールします。\n",
    "\n",
    "```bash\n",
    "conda install -c rdkit rdkit\n",
    "conda install -c openbabel openbabel\n",
    "```"
   ]
  },
  {
   "cell_type": "markdown",
   "metadata": {},
   "source": [
    "## rdkitやopenbabelを使った分子のJSONの生成の仕方"
   ]
  },
  {
   "cell_type": "code",
   "execution_count": 1,
   "metadata": {},
   "outputs": [],
   "source": [
    "from galahad_translator import GldMoleculeTranslator, GldMolecule\n",
    "from rdkit import Chem\n",
    "from rdkit.Chem import Draw, AllChem\n",
    "from rdkit.Chem.Draw import IPythonConsole\n",
    "translator = GldMoleculeTranslator()"
   ]
  },
  {
   "cell_type": "code",
   "execution_count": 2,
   "metadata": {},
   "outputs": [],
   "source": [
    "# cifファイルを読み込む場合\n",
    "import pybel\n",
    "filename = \"AMS_DATA.cif\"\n",
    "obmol = next(pybel.readfile('cif', filename))\n",
    "mol = Chem.MolFromMolBlock(obmol.write('mol'), removeHs=False)\n",
    "gld_mol = GldMolecule(\"test\",mol)"
   ]
  },
  {
   "cell_type": "code",
   "execution_count": 19,
   "metadata": {},
   "outputs": [],
   "source": [
    "# smilesを読み込む場合\n",
    "mol = Chem.MolFromSmiles(\"CC(O)CCC\")\n",
    "mol = AllChem.AddHs(mol)\n",
    "AllChem.EmbedMolecule(mol,maxAttempts=200)\n",
    "gld_mol = GldMolecule(\"test\",mol)"
   ]
  },
  {
   "cell_type": "code",
   "execution_count": 20,
   "metadata": {},
   "outputs": [
    {
     "data": {
      "image/png": "[encoded data removed]",
      "text/plain": [
       "<rdkit.Chem.rdchem.Mol at 0x238253cd6c0>"
      ]
     },
     "execution_count": 20,
     "metadata": {},
     "output_type": "execute_result"
    }
   ],
   "source": [
    "gld_mol.mol"
   ]
  },
  {
   "cell_type": "code",
   "execution_count": 21,
   "metadata": {
    "scrolled": true
   },
   "outputs": [
    {
     "name": "stdout",
     "output_type": "stream",
     "text": [
      "{\"title\": \"test\", \"atoms\": [{\"atomicNumber\": 6, \"atomIndex\": 0, \"position\": {\"x\": 2.2966271918225005, \"y\": -0.08188368632483495, \"z\": 0.6564735236690268}, \"formalCharge\": 0}, {\"atomicNumber\": 6, \"atomIndex\": 1, \"position\": {\"x\": 1.1672949334633829, \"y\": 0.4450307321147845, \"z\": -0.16833484306825341}, \"formalCharge\": 0}, {\"atomicNumber\": 8, \"atomIndex\": 2, \"position\": {\"x\": 1.361973304227246, \"y\": 0.09146109258328165, \"z\": -1.5189513019754965}, \"formalCharge\": 0}, {\"atomicNumber\": 6, \"atomIndex\": 3, \"position\": {\"x\": -0.17383532650950248, \"y\": -0.1068441342651548, \"z\": 0.25191863634735534}, \"formalCharge\": 0}, {\"atomicNumber\": 6, \"atomIndex\": 4, \"position\": {\"x\": -1.3006884511116488, \"y\": 0.4336246324631927, \"z\": -0.5885254733879967}, \"formalCharge\": 0}, {\"atomicNumber\": 6, \"atomIndex\": 5, \"position\": {\"x\": -2.585416426054509, \"y\": -0.20928090062416096, \"z\": -0.05015331410638282}, \"formalCharge\": 0}, {\"atomicNumber\": 1, \"atomIndex\": 6, \"position\": {\"x\": 3.0549930688588214, \"y\": -0.5685510823765482, \"z\": 0.0028892728085034534}, \"formalCharge\": 0}, {\"atomicNumber\": 1, \"atomIndex\": 7, \"position\": {\"x\": 2.816594086373428, \"y\": 0.7346918725538052, \"z\": 1.232973934902978}, \"formalCharge\": 0}, {\"atomicNumber\": 1, \"atomIndex\": 8, \"position\": {\"x\": 1.9714666798333071, \"y\": -0.8214442508901929, \"z\": 1.4260448120682563}, \"formalCharge\": 0}, {\"atomicNumber\": 1, \"atomIndex\": 9, \"position\": {\"x\": 1.1644372324099201, \"y\": 1.5402761042956141, \"z\": -0.11578250090474534}, \"formalCharge\": 0}, {\"atomicNumber\": 1, \"atomIndex\": 10, \"position\": {\"x\": 1.9695380178386186, \"y\": -0.712299376201543, \"z\": -1.5562156963109761}, \"formalCharge\": 0}, {\"atomicNumber\": 1, \"atomIndex\": 11, \"position\": {\"x\": -0.17828336007304119, \"y\": -1.2172937798876635, \"z\": 0.11016157533697638}, \"formalCharge\": 0}, {\"atomicNumber\": 1, \"atomIndex\": 12, \"position\": {\"x\": -0.3710189909869384, \"y\": 0.0945845989004455, \"z\": 1.3210445694887663}, \"formalCharge\": 0}, {\"atomicNumber\": 1, \"atomIndex\": 13, \"position\": {\"x\": -1.2073362615867087, \"y\": 0.07990156199188254, \"z\": -1.6383078916252356}, \"formalCharge\": 0}, {\"atomicNumber\": 1, \"atomIndex\": 14, \"position\": {\"x\": -1.3866380385102193, \"y\": 1.5404029522616849, \"z\": -0.5170719511988149}, \"formalCharge\": 0}, {\"atomicNumber\": 1, \"atomIndex\": 15, \"position\": {\"x\": -2.4720139073787277, \"y\": -1.3055388448411296, \"z\": -0.2891254411670805}, \"formalCharge\": 0}, {\"atomicNumber\": 1, \"atomIndex\": 16, \"position\": {\"x\": -3.4606498191966955, \"y\": 0.16246439896504505, \"z\": -0.6183047248736194}, \"formalCharge\": 0}, {\"atomicNumber\": 1, \"atomIndex\": 17, \"position\": {\"x\": -2.6670439334192335, \"y\": -0.09930189071851017, \"z\": 1.033592397289218}, \"formalCharge\": 0}], \"bonds\": [{\"bondIndex\": 0, \"beginAtomIndex\": 0, \"endAtomIndex\": 1, \"bondOrder\": 1}, {\"bondIndex\": 1, \"beginAtomIndex\": 1, \"endAtomIndex\": 2, \"bondOrder\": 1}, {\"bondIndex\": 2, \"beginAtomIndex\": 1, \"endAtomIndex\": 3, \"bondOrder\": 1}, {\"bondIndex\": 3, \"beginAtomIndex\": 3, \"endAtomIndex\": 4, \"bondOrder\": 1}, {\"bondIndex\": 4, \"beginAtomIndex\": 4, \"endAtomIndex\": 5, \"bondOrder\": 1}, {\"bondIndex\": 5, \"beginAtomIndex\": 0, \"endAtomIndex\": 6, \"bondOrder\": 1}, {\"bondIndex\": 6, \"beginAtomIndex\": 0, \"endAtomIndex\": 7, \"bondOrder\": 1}, {\"bondIndex\": 7, \"beginAtomIndex\": 0, \"endAtomIndex\": 8, \"bondOrder\": 1}, {\"bondIndex\": 8, \"beginAtomIndex\": 1, \"endAtomIndex\": 9, \"bondOrder\": 1}, {\"bondIndex\": 9, \"beginAtomIndex\": 2, \"endAtomIndex\": 10, \"bondOrder\": 1}, {\"bondIndex\": 10, \"beginAtomIndex\": 3, \"endAtomIndex\": 11, \"bondOrder\": 1}, {\"bondIndex\": 11, \"beginAtomIndex\": 3, \"endAtomIndex\": 12, \"bondOrder\": 1}, {\"bondIndex\": 12, \"beginAtomIndex\": 4, \"endAtomIndex\": 13, \"bondOrder\": 1}, {\"bondIndex\": 13, \"beginAtomIndex\": 4, \"endAtomIndex\": 14, \"bondOrder\": 1}, {\"bondIndex\": 14, \"beginAtomIndex\": 5, \"endAtomIndex\": 15, \"bondOrder\": 1}, {\"bondIndex\": 15, \"beginAtomIndex\": 5, \"endAtomIndex\": 16, \"bondOrder\": 1}, {\"bondIndex\": 16, \"beginAtomIndex\": 5, \"endAtomIndex\": 17, \"bondOrder\": 1}], \"offsetPosition\": {\"x\": 0, \"y\": 0, \"z\": 0}}\n"
     ]
    }
   ],
   "source": [
    "# Galahadとの通信用のJSON\n",
    "# これをGalahadのMoleculeRepositoryにコピペして使う。\n",
    "print(translator.dumps(gld_mol))"
   ]
  },
  {
   "cell_type": "markdown",
   "metadata": {},
   "source": [
    "### Galahadとの通信用のサーバーを立てる方法"
   ]
  },
  {
   "cell_type": "markdown",
   "metadata": {},
   "source": [
    "コンソールから以下のように実行します。\n",
    "\n",
    "```bash\n",
    "python structural_optimization_server.py \n",
    "```\n",
    "\n",
    "======== Running on http://0.0.0.0:8080 ========\n",
    "(Press CTRL+C to quit)\n"
   ]
  },
  {
   "cell_type": "code",
   "execution_count": 12,
   "metadata": {},
   "outputs": [],
   "source": [
    "import requests"
   ]
  },
  {
   "cell_type": "code",
   "execution_count": 11,
   "metadata": {},
   "outputs": [
    {
     "name": "stdout",
     "output_type": "stream",
     "text": [
      "Requirement already satisfied: requests in c:\\users\\kawashima\\miniconda3\\envs\\rdkit\\lib\\site-packages (2.27.1)\n",
      "Requirement already satisfied: urllib3<1.27,>=1.21.1 in c:\\users\\kawashima\\miniconda3\\envs\\rdkit\\lib\\site-packages (from requests) (1.26.8)\n",
      "Requirement already satisfied: certifi>=2017.4.17 in c:\\users\\kawashima\\miniconda3\\envs\\rdkit\\lib\\site-packages (from requests) (2021.10.8)\n",
      "Requirement already satisfied: charset-normalizer~=2.0.0 in c:\\users\\kawashima\\miniconda3\\envs\\rdkit\\lib\\site-packages (from requests) (2.0.12)\n",
      "Requirement already satisfied: idna<4,>=2.5 in c:\\users\\kawashima\\miniconda3\\envs\\rdkit\\lib\\site-packages (from requests) (3.3)\n"
     ]
    }
   ],
   "source": [
    "!pip install requests"
   ]
  },
  {
   "cell_type": "code",
   "execution_count": 22,
   "metadata": {},
   "outputs": [
    {
     "data": {
      "text/plain": [
       "'test is registered'"
      ]
     },
     "execution_count": 22,
     "metadata": {},
     "output_type": "execute_result"
    }
   ],
   "source": [
    "# POSTすると分子が登録される\n",
    "requests.post(\"http://localhost:8080\", {\"json\": translator.dumps(gld_mol)}).text"
   ]
  },
  {
   "cell_type": "code",
   "execution_count": 23,
   "metadata": {},
   "outputs": [
    {
     "data": {
      "text/plain": [
       "'{\"title\": \"test\", \"atoms\": [{\"atomicNumber\": 6, \"atomIndex\": 0, \"position\": {\"x\": -1.7884646941841926, \"y\": 0.08719615027193993, \"z\": -0.8513037286871282}, \"formalCharge\": 0}, {\"atomicNumber\": 6, \"atomIndex\": 1, \"position\": {\"x\": -1.2143658525034624, \"y\": -0.36170158260983004, \"z\": 0.4509370929210709}, \"formalCharge\": 0}, {\"atomicNumber\": 8, \"atomIndex\": 2, \"position\": {\"x\": -2.0813763955197295, \"y\": -0.0009887956537154472, \"z\": 1.4762137877756474}, \"formalCharge\": 0}, {\"atomicNumber\": 6, \"atomIndex\": 3, \"position\": {\"x\": 0.14224156204691094, \"y\": 0.24639244707359567, \"z\": 0.7167836965340966}, \"formalCharge\": 0}, {\"atomicNumber\": 6, \"atomIndex\": 4, \"position\": {\"x\": 1.0623222997576016, \"y\": -0.18411487256566242, \"z\": -0.4062582346002101}, \"formalCharge\": 0}, {\"atomicNumber\": 6, \"atomIndex\": 5, \"position\": {\"x\": 2.4518271032929446, \"y\": 0.3663232391267578, \"z\": -0.24592989789987205}, \"formalCharge\": 0}, {\"atomicNumber\": 1, \"atomIndex\": 6, \"position\": {\"x\": -1.3305927912812407, \"y\": -0.39999454967183146, \"z\": -1.7331432340609556}, \"formalCharge\": 0}, {\"atomicNumber\": 1, \"atomIndex\": 7, \"position\": {\"x\": -2.8686786453294437, \"y\": -0.23998063788218296, \"z\": -0.8628185763356584}, \"formalCharge\": 0}, {\"atomicNumber\": 1, \"atomIndex\": 8, \"position\": {\"x\": -1.7899927543975576, \"y\": 1.1929769032988635, \"z\": -0.9660610410665067}, \"formalCharge\": 0}, {\"atomicNumber\": 1, \"atomIndex\": 9, \"position\": {\"x\": -1.1669322067980918, \"y\": -1.469109038039877, \"z\": 0.4422521574786282}, \"formalCharge\": 0}, {\"atomicNumber\": 1, \"atomIndex\": 10, \"position\": {\"x\": -2.0953312077793886, \"y\": -0.6659588392878115, \"z\": 2.2028282976932316}, \"formalCharge\": 0}, {\"atomicNumber\": 1, \"atomIndex\": 11, \"position\": {\"x\": 0.12409815600623421, \"y\": 1.3220868267915158, \"z\": 0.8434209388334704}, \"formalCharge\": 0}, {\"atomicNumber\": 1, \"atomIndex\": 12, \"position\": {\"x\": 0.5590526961594948, \"y\": -0.22187414898360813, \"z\": 1.6468967699752892}, \"formalCharge\": 0}, {\"atomicNumber\": 1, \"atomIndex\": 13, \"position\": {\"x\": 0.6050121144320336, \"y\": 0.1662362366260908, \"z\": -1.3584250372637992}, \"formalCharge\": 0}, {\"atomicNumber\": 1, \"atomIndex\": 14, \"position\": {\"x\": 1.033504007764224, \"y\": -1.3011083856290575, \"z\": -0.39810003440637365}, \"formalCharge\": 0}, {\"atomicNumber\": 1, \"atomIndex\": 15, \"position\": {\"x\": 2.634951813571422, \"y\": 1.1023683029301092, \"z\": -1.0444506566016674}, \"formalCharge\": 0}, {\"atomicNumber\": 1, \"atomIndex\": 16, \"position\": {\"x\": 2.559319955987872, \"y\": 0.8526810114321843, \"z\": 0.7285041075208691}, \"formalCharge\": 0}, {\"atomicNumber\": 1, \"atomIndex\": 17, \"position\": {\"x\": 3.163404838774284, \"y\": -0.4914302672274698, \"z\": -0.28133517352672543}, \"formalCharge\": 0}], \"bonds\": [{\"bondIndex\": 0, \"beginAtomIndex\": 0, \"endAtomIndex\": 1, \"bondOrder\": 1}, {\"bondIndex\": 1, \"beginAtomIndex\": 1, \"endAtomIndex\": 2, \"bondOrder\": 1}, {\"bondIndex\": 2, \"beginAtomIndex\": 1, \"endAtomIndex\": 3, \"bondOrder\": 1}, {\"bondIndex\": 3, \"beginAtomIndex\": 3, \"endAtomIndex\": 4, \"bondOrder\": 1}, {\"bondIndex\": 4, \"beginAtomIndex\": 4, \"endAtomIndex\": 5, \"bondOrder\": 1}, {\"bondIndex\": 5, \"beginAtomIndex\": 0, \"endAtomIndex\": 6, \"bondOrder\": 1}, {\"bondIndex\": 6, \"beginAtomIndex\": 0, \"endAtomIndex\": 7, \"bondOrder\": 1}, {\"bondIndex\": 7, \"beginAtomIndex\": 0, \"endAtomIndex\": 8, \"bondOrder\": 1}, {\"bondIndex\": 8, \"beginAtomIndex\": 1, \"endAtomIndex\": 9, \"bondOrder\": 1}, {\"bondIndex\": 9, \"beginAtomIndex\": 2, \"endAtomIndex\": 10, \"bondOrder\": 1}, {\"bondIndex\": 10, \"beginAtomIndex\": 3, \"endAtomIndex\": 11, \"bondOrder\": 1}, {\"bondIndex\": 11, \"beginAtomIndex\": 3, \"endAtomIndex\": 12, \"bondOrder\": 1}, {\"bondIndex\": 12, \"beginAtomIndex\": 4, \"endAtomIndex\": 13, \"bondOrder\": 1}, {\"bondIndex\": 13, \"beginAtomIndex\": 4, \"endAtomIndex\": 14, \"bondOrder\": 1}, {\"bondIndex\": 14, \"beginAtomIndex\": 5, \"endAtomIndex\": 15, \"bondOrder\": 1}, {\"bondIndex\": 15, \"beginAtomIndex\": 5, \"endAtomIndex\": 16, \"bondOrder\": 1}, {\"bondIndex\": 16, \"beginAtomIndex\": 5, \"endAtomIndex\": 17, \"bondOrder\": 1}], \"offsetPosition\": {\"x\": 0, \"y\": 0, \"z\": 0}}'"
      ]
     },
     "execution_count": 23,
     "metadata": {},
     "output_type": "execute_result"
    }
   ],
   "source": [
    "# GETすると分子のJSONが返ってくる\n",
    "requests.get(\"http://localhost:8080/move\").text"
   ]
  },
  {
   "cell_type": "code",
   "execution_count": null,
   "metadata": {},
   "outputs": [],
   "source": []
  },
  {
   "cell_type": "code",
   "execution_count": null,
   "metadata": {},
   "outputs": [],
   "source": []
  }
 ],
 "metadata": {
  "kernelspec": {
   "display_name": "Python 3 (ipykernel)",
   "language": "python",
   "name": "python3"
  },
  "language_info": {
   "codemirror_mode": {
    "name": "ipython",
    "version": 3
   },
   "file_extension": ".py",
   "mimetype": "text/x-python",
   "name": "python",
   "nbconvert_exporter": "python",
   "pygments_lexer": "ipython3",
   "version": "3.7.11"
  }
 },
 "nbformat": 4,
 "nbformat_minor": 1
}
