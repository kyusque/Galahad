{
 "cells": [
  {
   "cell_type": "markdown",
   "metadata": {},
   "source": [
    "# Galahad用のJSON作成方法\n",
    "\n",
    "## インストール方法\n",
    "\n",
    "rdkit使うのでcondaでインストールします。\n",
    "\n",
    "```bash\n",
    "conda install -c rdkit rdkit\n",
    "conda install -c openbabel openbabel\n",
    "```"
   ]
  },
  {
   "cell_type": "markdown",
   "metadata": {},
   "source": [
    "## rdkitやopenbabelを使った分子のJSONの生成の仕方"
   ]
  },
  {
   "cell_type": "code",
   "execution_count": 1,
   "metadata": {},
   "outputs": [],
   "source": [
    "from galahad_translator import GldMoleculeTranslator, GldMolecule\n",
    "from rdkit import Chem\n",
    "from rdkit.Chem import Draw, AllChem\n",
    "from rdkit.Chem.Draw import IPythonConsole\n",
    "translator = GldMoleculeTranslator()"
   ]
  },
  {
   "cell_type": "code",
   "execution_count": 2,
   "metadata": {},
   "outputs": [],
   "source": [
    "# cifファイルを読み込む場合\n",
    "import pybel\n",
    "filename = \"AMS_DATA.cif\"\n",
    "obmol = next(pybel.readfile('cif', filename))\n",
    "mol = Chem.MolFromMolBlock(obmol.write('mol'), removeHs=False)\n",
    "gld_mol = GldMolecule(\"test\",mol)"
   ]
  },
  {
   "cell_type": "code",
   "execution_count": 6,
   "metadata": {},
   "outputs": [],
   "source": [
    "# smilesを読み込む場合\n",
    "mol = Chem.MolFromSmiles(\"CCCCC\")\n",
    "mol = AllChem.AddHs(mol)\n",
    "AllChem.EmbedMolecule(mol,maxAttempts=200)\n",
    "gld_mol = GldMolecule(\"test\",mol)"
   ]
  },
  {
   "cell_type": "code",
   "execution_count": 7,
   "metadata": {},
   "outputs": [
    {
     "data": {
      "image/png": "[encoded data removed]",
      "text/plain": [
       "<rdkit.Chem.rdchem.Mol at 0x23824fca940>"
      ]
     },
     "execution_count": 7,
     "metadata": {},
     "output_type": "execute_result"
    }
   ],
   "source": [
    "gld_mol.mol"
   ]
  },
  {
   "cell_type": "code",
   "execution_count": 8,
   "metadata": {
    "scrolled": true
   },
   "outputs": [
    {
     "name": "stdout",
     "output_type": "stream",
     "text": [
      "{\"title\": \"test\", \"atoms\": [{\"atomicNumber\": 6, \"atomIndex\": 0, \"position\": {\"x\": 2.471120772521953, \"y\": -0.4254638290369916, \"z\": -0.1473561892494232}, \"formalCharge\": 0}, {\"atomicNumber\": 6, \"atomIndex\": 1, \"position\": {\"x\": 1.2301669359420073, \"y\": 0.39821687283306695, \"z\": -0.17848578982164362}, \"formalCharge\": 0}, {\"atomicNumber\": 6, \"atomIndex\": 2, \"position\": {\"x\": -0.017198692862177876, \"y\": -0.412330196025817, \"z\": 0.20458047271994337}, \"formalCharge\": 0}, {\"atomicNumber\": 6, \"atomIndex\": 3, \"position\": {\"x\": -1.1593620443372856, \"y\": 0.5528487007852467, \"z\": 0.12353182997056945}, \"formalCharge\": 0}, {\"atomicNumber\": 6, \"atomIndex\": 4, \"position\": {\"x\": -2.489334517494359, \"y\": -0.07496591231206107, \"z\": 0.4721963072782414}, \"formalCharge\": 0}, {\"atomicNumber\": 1, \"atomIndex\": 5, \"position\": {\"x\": 2.444392400944209, \"y\": -1.1003705235300691, \"z\": 0.7106912554088565}, \"formalCharge\": 0}, {\"atomicNumber\": 1, \"atomIndex\": 6, \"position\": {\"x\": 2.5771508692134515, \"y\": -0.9345791651557861, \"z\": -1.128761706736871}, \"formalCharge\": 0}, {\"atomicNumber\": 1, \"atomIndex\": 7, \"position\": {\"x\": 3.3366411421130193, \"y\": 0.25507283712844014, \"z\": -0.001884694882354208}, \"formalCharge\": 0}, {\"atomicNumber\": 1, \"atomIndex\": 8, \"position\": {\"x\": 1.2391335723017098, \"y\": 1.2605209076178954, \"z\": 0.516038954918696}, \"formalCharge\": 0}, {\"atomicNumber\": 1, \"atomIndex\": 9, \"position\": {\"x\": 1.042914632522402, \"y\": 0.7819434594971617, \"z\": -1.183102789353728}, \"formalCharge\": 0}, {\"atomicNumber\": 1, \"atomIndex\": 10, \"position\": {\"x\": 0.10857013315527225, \"y\": -0.8734135755476786, \"z\": 1.1992857914353057}, \"formalCharge\": 0}, {\"atomicNumber\": 1, \"atomIndex\": 11, \"position\": {\"x\": -0.10627436327117892, \"y\": -1.1897079021648975, \"z\": -0.5896129516845365}, \"formalCharge\": 0}, {\"atomicNumber\": 1, \"atomIndex\": 12, \"position\": {\"x\": -1.1988102710593023, \"y\": 0.9380176906195163, \"z\": -0.9144692899306113}, \"formalCharge\": 0}, {\"atomicNumber\": 1, \"atomIndex\": 13, \"position\": {\"x\": -0.9787635792921819, \"y\": 1.3490334876333887, \"z\": 0.8744417997476065}, \"formalCharge\": 0}, {\"atomicNumber\": 1, \"atomIndex\": 14, \"position\": {\"x\": -3.2504533416194663, \"y\": 0.747593434360553, \"z\": 0.3726421806444945}, \"formalCharge\": 0}, {\"atomicNumber\": 1, \"atomIndex\": 15, \"position\": {\"x\": -2.514806617175411, \"y\": -0.46034105132098624, \"z\": 1.4874311023712516}, \"formalCharge\": 0}, {\"atomicNumber\": 1, \"atomIndex\": 16, \"position\": {\"x\": -2.735087031602664, \"y\": -0.8120752353809921, \"z\": -0.29208211276524804}, \"formalCharge\": 0}], \"bonds\": [{\"bondIndex\": 0, \"beginAtomIndex\": 0, \"endAtomIndex\": 1, \"bondOrder\": 1}, {\"bondIndex\": 1, \"beginAtomIndex\": 1, \"endAtomIndex\": 2, \"bondOrder\": 1}, {\"bondIndex\": 2, \"beginAtomIndex\": 2, \"endAtomIndex\": 3, \"bondOrder\": 1}, {\"bondIndex\": 3, \"beginAtomIndex\": 3, \"endAtomIndex\": 4, \"bondOrder\": 1}, {\"bondIndex\": 4, \"beginAtomIndex\": 0, \"endAtomIndex\": 5, \"bondOrder\": 1}, {\"bondIndex\": 5, \"beginAtomIndex\": 0, \"endAtomIndex\": 6, \"bondOrder\": 1}, {\"bondIndex\": 6, \"beginAtomIndex\": 0, \"endAtomIndex\": 7, \"bondOrder\": 1}, {\"bondIndex\": 7, \"beginAtomIndex\": 1, \"endAtomIndex\": 8, \"bondOrder\": 1}, {\"bondIndex\": 8, \"beginAtomIndex\": 1, \"endAtomIndex\": 9, \"bondOrder\": 1}, {\"bondIndex\": 9, \"beginAtomIndex\": 2, \"endAtomIndex\": 10, \"bondOrder\": 1}, {\"bondIndex\": 10, \"beginAtomIndex\": 2, \"endAtomIndex\": 11, \"bondOrder\": 1}, {\"bondIndex\": 11, \"beginAtomIndex\": 3, \"endAtomIndex\": 12, \"bondOrder\": 1}, {\"bondIndex\": 12, \"beginAtomIndex\": 3, \"endAtomIndex\": 13, \"bondOrder\": 1}, {\"bondIndex\": 13, \"beginAtomIndex\": 4, \"endAtomIndex\": 14, \"bondOrder\": 1}, {\"bondIndex\": 14, \"beginAtomIndex\": 4, \"endAtomIndex\": 15, \"bondOrder\": 1}, {\"bondIndex\": 15, \"beginAtomIndex\": 4, \"endAtomIndex\": 16, \"bondOrder\": 1}], \"offsetPosition\": {\"x\": 0, \"y\": 0, \"z\": 0}}\n"
     ]
    }
   ],
   "source": [
    "# Galahadとの通信用のJSON\n",
    "# これをGalahadのMoleculeRepositoryにコピペして使う。\n",
    "print(translator.dumps(gld_mol))"
   ]
  },
  {
   "cell_type": "markdown",
   "metadata": {},
   "source": [
    "### Galahadとの通信用のサーバーを立てる方法"
   ]
  },
  {
   "cell_type": "markdown",
   "metadata": {},
   "source": [
    "コンソールから以下のように実行します。\n",
    "\n",
    "```bash\n",
    "python structural_optimization_server.py \n",
    "```\n",
    "\n",
    "======== Running on http://0.0.0.0:8080 ========\n",
    "(Press CTRL+C to quit)\n"
   ]
  },
  {
   "cell_type": "code",
   "execution_count": 6,
   "metadata": {},
   "outputs": [],
   "source": [
    "import requests"
   ]
  },
  {
   "cell_type": "code",
   "execution_count": 7,
   "metadata": {},
   "outputs": [
    {
     "data": {
      "text/plain": [
       "'test is registered'"
      ]
     },
     "execution_count": 7,
     "metadata": {},
     "output_type": "execute_result"
    }
   ],
   "source": [
    "# POSTすると分子が登録される\n",
    "requests.post(\"http://0.0.0.0:8080\", {\"json\": translator.dumps(gld_mol)}).text"
   ]
  },
  {
   "cell_type": "code",
   "execution_count": 8,
   "metadata": {},
   "outputs": [
    {
     "data": {
      "text/plain": [
       "'{\"title\": \"test\", \"atoms\": [{\"atomicNumber\": 6, \"atomIndex\": 0, \"position\": {\"x\": -0.022096865213048444, \"y\": 0.0032150545138023377, \"z\": 0.016519740161611066}, \"formalCharge\": 0}, {\"atomicNumber\": 1, \"atomIndex\": 1, \"position\": {\"x\": -0.6690087808914821, \"y\": 0.889359864462024, \"z\": -0.10090850332081808}, \"formalCharge\": 0}, {\"atomicNumber\": 1, \"atomIndex\": 2, \"position\": {\"x\": -0.3777879438725164, \"y\": -0.8577518853148207, \"z\": -0.5882960277297796}, \"formalCharge\": 0}, {\"atomicNumber\": 1, \"atomIndex\": 3, \"position\": {\"x\": 0.0964209242816106, \"y\": -0.3151252986950166, \"z\": 1.063780866962517}, \"formalCharge\": 0}, {\"atomicNumber\": 1, \"atomIndex\": 4, \"position\": {\"x\": 0.9724726656954361, \"y\": 0.28030226503401146, \"z\": -0.3910960760735304}, \"formalCharge\": 0}], \"bonds\": [{\"bondIndex\": 0, \"beginAtomIndex\": 0, \"endAtomIndex\": 1, \"bondOrder\": 1}, {\"bondIndex\": 1, \"beginAtomIndex\": 0, \"endAtomIndex\": 2, \"bondOrder\": 1}, {\"bondIndex\": 2, \"beginAtomIndex\": 0, \"endAtomIndex\": 3, \"bondOrder\": 1}, {\"bondIndex\": 3, \"beginAtomIndex\": 0, \"endAtomIndex\": 4, \"bondOrder\": 1}], \"offsetPosition\": {\"x\": 0, \"y\": 0, \"z\": 0}}'"
      ]
     },
     "execution_count": 8,
     "metadata": {},
     "output_type": "execute_result"
    }
   ],
   "source": [
    "# GETすると分子のJSONが返ってくる\n",
    "requests.get(\"http://0.0.0.0:8080\").text"
   ]
  },
  {
   "cell_type": "code",
   "execution_count": null,
   "metadata": {},
   "outputs": [],
   "source": []
  },
  {
   "cell_type": "code",
   "execution_count": null,
   "metadata": {},
   "outputs": [],
   "source": []
  }
 ],
 "metadata": {
  "kernelspec": {
   "display_name": "Python 3 (ipykernel)",
   "language": "python",
   "name": "python3"
  },
  "language_info": {
   "codemirror_mode": {
    "name": "ipython",
    "version": 3
   },
   "file_extension": ".py",
   "mimetype": "text/x-python",
   "name": "python",
   "nbconvert_exporter": "python",
   "pygments_lexer": "ipython3",
   "version": "3.7.11"
  }
 },
 "nbformat": 4,
 "nbformat_minor": 1
}
